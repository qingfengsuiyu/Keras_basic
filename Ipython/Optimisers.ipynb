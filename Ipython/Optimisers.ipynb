{
 "cells": [
  {
   "cell_type": "code",
   "execution_count": 3,
   "metadata": {},
   "outputs": [],
   "source": [
    "import numpy as np\n",
    "from keras.models import Sequential\n",
    "from keras.layers import Dense,Activation"
   ]
  },
  {
   "cell_type": "code",
   "execution_count": 24,
   "metadata": {},
   "outputs": [],
   "source": [
    "def train_given_optimiser(optimiser):\n",
    "    model = Sequential()\n",
    "    model.add(Dense(1,input_dim=500))\n",
    "    model.add(Activation(activation='sigmoid'))\n",
    "    model.compile(optimizer=optimiser, loss='binary_crossentropy', metrics=['accuracy'])\n",
    "    data = np.random.random((1000, 500))\n",
    "    labels = np.random.randint(2, size=(1000, 1))\n",
    "    score = model.evaluate(data,labels, verbose=0)\n",
    "    print(\"Optimiser:\",optimiser)\n",
    "    print(\"Before Traing:\",list(zip(model.metrics_names,score)))\n",
    "    model.fit(data,labels,nb_epoch=10,batch_size=32,verbose=0)\n",
    "    score = model.evaluate(data,labels,verbose=0)\n",
    "    print(\"After Training:\",list(zip(model.metrics_names,score)))"
   ]
  },
  {
   "cell_type": "code",
   "execution_count": 25,
   "metadata": {},
   "outputs": [
    {
     "name": "stdout",
     "output_type": "stream",
     "text": [
      "Optimiser: sgd\n",
      "Before Traing: [('loss', 0.73712974548339849), ('acc', 0.47299999999999998)]\n"
     ]
    },
    {
     "name": "stderr",
     "output_type": "stream",
     "text": [
      "/usr/local/lib/python3.6/site-packages/keras/models.py:844: UserWarning: The `nb_epoch` argument in `fit` has been renamed `epochs`.\n",
      "  warnings.warn('The `nb_epoch` argument in `fit` '\n"
     ]
    },
    {
     "name": "stdout",
     "output_type": "stream",
     "text": [
      "After Training: [('loss', 0.69430408191680903), ('acc', 0.55000000000000004)]\n"
     ]
    }
   ],
   "source": [
    "train_given_optimiser(\"sgd\")"
   ]
  },
  {
   "cell_type": "code",
   "execution_count": 26,
   "metadata": {},
   "outputs": [
    {
     "name": "stdout",
     "output_type": "stream",
     "text": [
      "Optimiser: sgd\n",
      "Before Traing: [('loss', 0.72937439298629758), ('acc', 0.501)]\n"
     ]
    },
    {
     "name": "stderr",
     "output_type": "stream",
     "text": [
      "/usr/local/lib/python3.6/site-packages/keras/models.py:844: UserWarning: The `nb_epoch` argument in `fit` has been renamed `epochs`.\n",
      "  warnings.warn('The `nb_epoch` argument in `fit` '\n"
     ]
    },
    {
     "name": "stdout",
     "output_type": "stream",
     "text": [
      "After Training: [('loss', 0.67946840763092042), ('acc', 0.55200000000000005)]\n",
      "Optimiser: rmsprop\n",
      "Before Traing: [('loss', 0.7371413269042969), ('acc', 0.52000000000000002)]\n",
      "After Training: [('loss', 0.71391064405441285), ('acc', 0.53600000000000003)]\n",
      "Optimiser: adagrad\n",
      "Before Traing: [('loss', 0.78839650726318355), ('acc', 0.51100000000000001)]\n",
      "After Training: [('loss', 0.67479027462005614), ('acc', 0.58999999999999997)]\n",
      "Optimiser: adadelta\n",
      "Before Traing: [('loss', 0.7431487221717834), ('acc', 0.47399999999999998)]\n",
      "After Training: [('loss', 0.68513898658752437), ('acc', 0.54900000000000004)]\n",
      "Optimiser: adam\n",
      "Before Traing: [('loss', 0.84412968635559082), ('acc', 0.48499999999999999)]\n",
      "After Training: [('loss', 0.67796457099914553), ('acc', 0.56999999999999995)]\n",
      "Optimiser: adamax\n",
      "Before Traing: [('loss', 0.73480047416687011), ('acc', 0.48099999999999998)]\n",
      "After Training: [('loss', 0.67493482780456548), ('acc', 0.58499999999999996)]\n",
      "Optimiser: nadam\n",
      "Before Traing: [('loss', 0.80721897506713869), ('acc', 0.5)]\n",
      "After Training: [('loss', 0.62166686344146727), ('acc', 0.68100000000000005)]\n"
     ]
    }
   ],
   "source": [
    "train_given_optimiser(\"sgd\")\n",
    "train_given_optimiser(\"rmsprop\")\n",
    "train_given_optimiser(\"adagrad\")\n",
    "train_given_optimiser(\"adadelta\")\n",
    "train_given_optimiser(\"adam\")\n",
    "train_given_optimiser(\"adamax\")\n",
    "train_given_optimiser(\"nadam\")"
   ]
  },
  {
   "cell_type": "code",
   "execution_count": null,
   "metadata": {
    "collapsed": true
   },
   "outputs": [],
   "source": []
  }
 ],
 "metadata": {
  "kernelspec": {
   "display_name": "Python 3",
   "language": "python",
   "name": "python3"
  },
  "language_info": {
   "codemirror_mode": {
    "name": "ipython",
    "version": 3
   },
   "file_extension": ".py",
   "mimetype": "text/x-python",
   "name": "python",
   "nbconvert_exporter": "python",
   "pygments_lexer": "ipython3",
   "version": "3.6.2"
  }
 },
 "nbformat": 4,
 "nbformat_minor": 2
}
