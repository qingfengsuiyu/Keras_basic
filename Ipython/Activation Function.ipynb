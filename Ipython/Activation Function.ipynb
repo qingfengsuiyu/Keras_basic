{
 "cells": [
  {
   "cell_type": "code",
   "execution_count": 11,
   "metadata": {
    "collapsed": true
   },
   "outputs": [],
   "source": [
    "import numpy as np\n",
    "from keras.models import Sequential\n",
    "from keras.layers import Dense, Activation"
   ]
  },
  {
   "cell_type": "code",
   "execution_count": 35,
   "metadata": {
    "collapsed": true
   },
   "outputs": [],
   "source": [
    "def train_given_activation(activation):\n",
    "    model = Sequential()\n",
    "    model.add(Dense(1, input_dim=500))\n",
    "    model.add(Activation(activation=activation))\n",
    "    model.compile(optimizer=\"sgd\", loss='binary_crossentropy', metrics=['accuracy'])\n",
    "    data = np.random.random((1000, 500))\n",
    "    labels = np.random.randint(2, size=(1000, 1))\n",
    "    score = model.evaluate(data,labels, verbose=0)\n",
    "    print (\"Activation: \", activation)\n",
    "    print (\"Before Training:\", list(zip(model.metrics_names, score)))\n",
    "    \n",
    "    model.fit(data,labels,nb_epoch=10,batch_size=32,verbose=0)\n",
    "    \n",
    "    score = model.evaluate(data,labels,verbose=0)\n",
    "    print(\"After Training:\",list(zip(model.metrics_names,score)))"
   ]
  },
  {
   "cell_type": "code",
   "execution_count": 36,
   "metadata": {},
   "outputs": [
    {
     "name": "stdout",
     "output_type": "stream",
     "text": [
      "Activation:  relu\n",
      "Before Training: [('loss', 3.1656066207885742), ('acc', 0.48299999999999998)]\n"
     ]
    },
    {
     "name": "stderr",
     "output_type": "stream",
     "text": [
      "/usr/local/lib/python3.6/site-packages/keras/models.py:844: UserWarning: The `nb_epoch` argument in `fit` has been renamed `epochs`.\n",
      "  warnings.warn('The `nb_epoch` argument in `fit` '\n"
     ]
    },
    {
     "name": "stdout",
     "output_type": "stream",
     "text": [
      "After Training: [('loss', 7.7366859588623047), ('acc', 0.52000000000000002)]\n",
      "Activation:  tanh\n",
      "Before Training: [('loss', 7.4953478546142582), ('acc', 0.25700000000000001)]\n",
      "After Training: [('loss', 7.7479989852905273), ('acc', 0.51400000000000001)]\n",
      "Activation:  sigmoid\n",
      "Before Training: [('loss', 0.80669344663619991), ('acc', 0.495)]\n",
      "After Training: [('loss', 0.68424846601486211), ('acc', 0.54500000000000004)]\n",
      "Activation:  hard_sigmoid\n",
      "Before Training: [('loss', 0.71300991916656498), ('acc', 0.501)]\n",
      "After Training: [('loss', 0.69411654996871952), ('acc', 0.53000000000000003)]\n",
      "Activation:  linear\n",
      "Before Training: [('loss', 4.798590766906738), ('acc', 0.44500000000000001)]\n",
      "After Training: [('loss', 7.6238591613769531), ('acc', 0.0)]\n"
     ]
    }
   ],
   "source": [
    "train_given_activation(\"relu\")\n",
    "train_given_activation(\"tanh\")\n",
    "train_given_activation(\"sigmoid\")\n",
    "train_given_activation(\"hard_sigmoid\")\n",
    "train_given_activation(\"linear\")"
   ]
  },
  {
   "cell_type": "code",
   "execution_count": null,
   "metadata": {
    "collapsed": true
   },
   "outputs": [],
   "source": []
  },
  {
   "cell_type": "code",
   "execution_count": null,
   "metadata": {
    "collapsed": true
   },
   "outputs": [],
   "source": []
  }
 ],
 "metadata": {
  "kernelspec": {
   "display_name": "Python 3",
   "language": "python",
   "name": "python3"
  },
  "language_info": {
   "codemirror_mode": {
    "name": "ipython",
    "version": 3
   },
   "file_extension": ".py",
   "mimetype": "text/x-python",
   "name": "python",
   "nbconvert_exporter": "python",
   "pygments_lexer": "ipython3",
   "version": "3.6.2"
  }
 },
 "nbformat": 4,
 "nbformat_minor": 2
}
