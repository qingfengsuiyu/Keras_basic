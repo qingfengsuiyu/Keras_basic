{
 "cells": [
  {
   "cell_type": "code",
   "execution_count": 45,
   "metadata": {},
   "outputs": [],
   "source": [
    "import autograd.numpy as np\n",
    "import autograd.numpy.random as npr\n",
    "from autograd import grad\n",
    "import sklearn.metrics\n",
    "import pylab"
   ]
  },
  {
   "cell_type": "markdown",
   "metadata": {},
   "source": [
    "**1.生成数据**"
   ]
  },
  {
   "cell_type": "code",
   "execution_count": 63,
   "metadata": {
    "collapsed": true
   },
   "outputs": [],
   "source": [
    "examples = 1000\n",
    "features = 100\n",
    "D = (npr.randn(examples,features),npr.randn(examples))"
   ]
  },
  {
   "cell_type": "markdown",
   "metadata": {},
   "source": [
    "**2. 定义神经网络--层**"
   ]
  },
  {
   "cell_type": "code",
   "execution_count": 64,
   "metadata": {
    "collapsed": true
   },
   "outputs": [],
   "source": [
    "layer1_units = 10\n",
    "layer2_units = 1\n",
    "w1 = npr.rand(features, layer1_units)\n",
    "b1 = npr.rand(layer1_units)\n",
    "w2 = npr.rand(layer1_units, layer2_units)\n",
    "b2 = 0.0\n",
    "theta = (w1, b1, w2, b2)"
   ]
  },
  {
   "cell_type": "markdown",
   "metadata": {},
   "source": [
    "**2.1 定义神经网络--平方损失函数**"
   ]
  },
  {
   "cell_type": "code",
   "execution_count": 65,
   "metadata": {
    "collapsed": true
   },
   "outputs": [],
   "source": [
    "def squared_loss(y, y_hat):\n",
    "    return np.dot((y - y_hat),(y - y_hat))"
   ]
  },
  {
   "cell_type": "markdown",
   "metadata": {},
   "source": [
    "**2.2 定义神经网络--交叉熵**"
   ]
  },
  {
   "cell_type": "code",
   "execution_count": 66,
   "metadata": {
    "collapsed": true
   },
   "outputs": [],
   "source": [
    "def binary_cross_entropy(y, y_hat):\n",
    "    return np.sum(-((y * np.log(y_hat)) + ((1-y) * np.log(1 - y_hat))))"
   ]
  },
  {
   "cell_type": "markdown",
   "metadata": {},
   "source": [
    "**3. 封装神经网络**"
   ]
  },
  {
   "cell_type": "code",
   "execution_count": 67,
   "metadata": {
    "collapsed": true
   },
   "outputs": [],
   "source": [
    "def neural_network(x, theta):\n",
    "    w1, b1, w2, b2 = theta\n",
    "    return np.tanh(np.dot((np.tanh(np.dot(x,w1) + b1)), w2) + b2)"
   ]
  },
  {
   "cell_type": "markdown",
   "metadata": {},
   "source": [
    "**3.1 封装优化目标函数**"
   ]
  },
  {
   "cell_type": "code",
   "execution_count": 68,
   "metadata": {
    "collapsed": true
   },
   "outputs": [],
   "source": [
    "def objective(theta, idx):\n",
    "    return squared_loss(D[1][idx], neural_network(D[0][idx], theta))"
   ]
  },
  {
   "cell_type": "markdown",
   "metadata": {},
   "source": [
    "**3.2 更新**"
   ]
  },
  {
   "cell_type": "code",
   "execution_count": 69,
   "metadata": {
    "collapsed": true
   },
   "outputs": [],
   "source": [
    "def update_theta(theta, delta, alpha):\n",
    "    w1, b1, w2, b2 = theta\n",
    "    w1_delta, b1_delta, w2_delta, b2_delta = delta\n",
    "    w1_new = w1 - alpha * w1_delta\n",
    "    b1_new = b1 - alpha * b1_delta\n",
    "    w2_new = w2 - alpha * w2_delta\n",
    "    b2_new = b2 - alpha * b2_delta\n",
    "    new_theta = (w1_new,b1_new,w2_new,b2_new)\n",
    "    return new_theta"
   ]
  },
  {
   "cell_type": "markdown",
   "metadata": {},
   "source": [
    "**4.1 计算梯度**"
   ]
  },
  {
   "cell_type": "code",
   "execution_count": 70,
   "metadata": {
    "collapsed": true
   },
   "outputs": [],
   "source": [
    "grad_objective = grad(objective)"
   ]
  },
  {
   "cell_type": "markdown",
   "metadata": {},
   "source": [
    "**5. 训练神经网络**"
   ]
  },
  {
   "cell_type": "code",
   "execution_count": 75,
   "metadata": {},
   "outputs": [
    {
     "name": "stdout",
     "output_type": "stream",
     "text": [
      "RMSE before training: 0.548937452163\n",
      "RMSE after training: 0.492709803734\n"
     ]
    },
    {
     "data": {
      "image/png": "[encoded data removed]",
      "text/plain": [
       "<matplotlib.figure.Figure at 0x10bcb5fd0>"
      ]
     },
     "metadata": {},
     "output_type": "display_data"
    }
   ],
   "source": [
    "grad_objective = grad(objective)\n",
    "# Train the Neural Network\n",
    "epochs = 10\n",
    "print (\"RMSE before training:\", sklearn.metrics.mean_squared_error(D[1],neural_network(D[0],\n",
    "theta)))\n",
    "rmse = []\n",
    "for i in range(0, epochs):\n",
    "    for j in range(0, examples):\n",
    "        delta = grad_objective(theta, j)\n",
    "        theta = update_theta(theta,delta, 0.01)\n",
    "rmse.append(sklearn.metrics.mean_squared_error(D[1],neural_network(D[0], theta)))\n",
    "print (\"RMSE after training:\", sklearn.metrics.mean_squared_error(D[1],neural_network(D[0],\n",
    "theta)))\n",
    "pylab.plot(rmse)\n",
    "pylab.show()"
   ]
  },
  {
   "cell_type": "code",
   "execution_count": null,
   "metadata": {
    "collapsed": true
   },
   "outputs": [],
   "source": []
  },
  {
   "cell_type": "code",
   "execution_count": null,
   "metadata": {
    "collapsed": true
   },
   "outputs": [],
   "source": []
  },
  {
   "cell_type": "code",
   "execution_count": null,
   "metadata": {
    "collapsed": true
   },
   "outputs": [],
   "source": []
  }
 ],
 "metadata": {
  "kernelspec": {
   "display_name": "Python 3",
   "language": "python",
   "name": "python3"
  },
  "language_info": {
   "codemirror_mode": {
    "name": "ipython",
    "version": 3
   },
   "file_extension": ".py",
   "mimetype": "text/x-python",
   "name": "python",
   "nbconvert_exporter": "python",
   "pygments_lexer": "ipython3",
   "version": "3.6.2"
  }
 },
 "nbformat": 4,
 "nbformat_minor": 2
}
